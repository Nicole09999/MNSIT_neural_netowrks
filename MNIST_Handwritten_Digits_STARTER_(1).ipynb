{
  "cells": [
    {
      "cell_type": "markdown",
      "metadata": {
        "id": "PL4Pj_Uf-UKX"
      },
      "source": [
        "# Introduction\n",
        "\n",
        "In this project, you will build a neural network of your own design to evaluate the MNIST dataset.\n",
        "\n",
        "Some of the benchmark results on MNIST include can be found [on Yann LeCun's page](https://webcache.googleusercontent.com/search?q=cache:stAVPik6onEJ:yann.lecun.com/exdb/mnist) and include:\n",
        "\n",
        "88% [Lecun et al., 1998](https://hal.science/hal-03926082/document)\n",
        "\n",
        "95.3% [Lecun et al., 1998](https://hal.science/hal-03926082v1/document)\n",
        "\n",
        "99.65% [Ciresan et al., 2011](http://people.idsia.ch/~juergen/ijcai2011.pdf)\n",
        "\n",
        "\n",
        "MNIST is a great dataset for sanity checking your models, since the accuracy levels achieved by large convolutional neural networks and small linear models are both quite high. This makes it important to be familiar with the data.\n",
        "\n",
        "## Installation"
      ]
    },
    {
      "cell_type": "code",
      "execution_count": null,
      "metadata": {
        "id": "6MBZHtyR-UKj"
      },
      "outputs": [],
      "source": [
        "# Update the PATH to include the user installation directory.\n",
        "import os\n",
        "os.environ['PATH'] = f\"{os.environ['PATH']}:/root/.local/bin\"\n",
        "\n",
        "# Restart the Kernel before you move on to the next step.|"
      ]
    },
    {
      "cell_type": "markdown",
      "metadata": {
        "id": "gQj6kukx-UKn"
      },
      "source": [
        "#### Important: Restart the Kernel before you move on to the next step."
      ]
    },
    {
      "cell_type": "code",
      "execution_count": null,
      "metadata": {
        "id": "o7MYNnvf-UKp"
      },
      "outputs": [],
      "source": [
        "# Install requirements\n",
        "!python -m pip install -r requirements.txt"
      ]
    },
    {
      "cell_type": "markdown",
      "metadata": {
        "id": "m9VU3V4y-UKr"
      },
      "source": [
        "## Imports"
      ]
    },
    {
      "cell_type": "code",
      "execution_count": null,
      "metadata": {
        "id": "LZSSaHbb-UKs"
      },
      "outputs": [],
      "source": [
        "## This cell contains the essential imports you will need – DO NOT CHANGE THE CONTENTS! ##\n",
        "import torch\n",
        "import torch.nn as nn\n",
        "import torch.nn.functional as F\n",
        "import torch.optim as optim\n",
        "import torchvision\n",
        "import torchvision.transforms as transforms\n",
        "import matplotlib.pyplot as plt\n",
        "import numpy as np"
      ]
    },
    {
      "cell_type": "code",
      "execution_count": null,
      "metadata": {
        "id": "_zLGodXJAyTR"
      },
      "outputs": [],
      "source": [
        "from torch.utils.data import DataLoader\n",
        "from torchvision import transforms\n",
        "from torchvision import datasets\n",
        "from torchvision.transforms import ToTensor\n",
        "import matplotlib.pyplot as plt"
      ]
    },
    {
      "cell_type": "code",
      "execution_count": null,
      "metadata": {
        "colab": {
          "base_uri": "https://localhost:8080/"
        },
        "id": "gF9250OTcgvZ",
        "outputId": "4efd9a6f-76da-4f8b-ef26-02ce60b1d7f6"
      },
      "outputs": [
        {
          "data": {
            "text/plain": [
              "device(type='cpu')"
            ]
          },
          "execution_count": 9,
          "metadata": {},
          "output_type": "execute_result"
        }
      ],
      "source": [
        "device = torch.device('cuda' if torch.cuda.is_available() else 'cpu')\n",
        "device"
      ]
    },
    {
      "cell_type": "markdown",
      "metadata": {
        "id": "AXDWEv5S-UKu"
      },
      "source": [
        "## Load the Dataset\n",
        "\n",
        "Specify your transforms as a list if you intend to .\n",
        "The transforms module is already loaded as `transforms`.\n",
        "\n",
        "MNIST is fortunately included in the torchvision module.\n",
        "Then, you can create your dataset using the `MNIST` object from `torchvision.datasets` ([the documentation is available here](https://pytorch.org/vision/stable/datasets.html#mnist)).\n",
        "Make sure to specify `download=True`!\n",
        "\n",
        "Once your dataset is created, you'll also need to define a `DataLoader` from the `torch.utils.data` module for both the train and the test set."
      ]
    },
    {
      "cell_type": "code",
      "execution_count": null,
      "metadata": {
        "id": "5ZYjNlAt-UKw"
      },
      "outputs": [],
      "source": [
        "# Define transforms\n",
        "## YOUR CODE HERE ##\n",
        "# transform = transforms.Compose([transforms.ToTensor(),transforms.flatten()])\n",
        "transform = transforms.Compose([transforms.ToTensor(),transforms.Normalize((0.5,), (0.5,))])\n",
        "\n",
        "## YOUR CODE HERE ##\n",
        "training_data=datasets.MNIST(root=\"data\",train=True,download=True,transform=transform)\n",
        "train_loader=DataLoader(training_data,batch_size=32,shuffle=True)\n",
        "# Create test set and define test dataloader\n",
        "## YOUR CODE HERE ##\n",
        "testing_data=datasets.MNIST(root=\"data\",train=False,download=True,transform=transform)\n",
        "test_loader=DataLoader(testing_data,batch_size=32)"
      ]
    },
    {
      "cell_type": "markdown",
      "metadata": {
        "id": "V6ZcH4ql-UKz"
      },
      "source": [
        "## Justify your preprocessing\n",
        "\n",
        "In your own words, why did you choose the transforms you chose? If you didn't use any preprocessing steps, why not?"
      ]
    },
    {
      "cell_type": "markdown",
      "metadata": {
        "id": "qtM5p0le-UK0"
      },
      "source": [
        "**DOUBLE CLICK THIS CELL TO MODIFY**\n",
        "\n",
        "> first i chose toTensor to convert the data into multi dimensional arrays for faster computation for the images and then chose to normalise the data so that it becomes easier for computation since the data would lie in the same range and further on i flatten the image to make it available in the one dimension .\n",
        "\n",
        "\n"
      ]
    },
    {
      "cell_type": "markdown",
      "metadata": {
        "id": "fL6C4Rsu-UK1"
      },
      "source": [
        "## Explore the Dataset\n",
        "Using matplotlib, numpy, and torch, explore the dimensions of your data.\n",
        "\n",
        "You can view images using the `show5` function defined below – it takes a data loader as an argument.\n",
        "Remember that normalized images will look really weird to you! You may want to try changing your transforms to view images.\n",
        "Typically using no transforms other than `toTensor()` works well for viewing – but not as well for training your network.\n",
        "If `show5` doesn't work, go back and check your code for creating your data loaders and your training/test sets."
      ]
    },
    {
      "cell_type": "code",
      "execution_count": null,
      "metadata": {
        "id": "beXVnjTb-UK2"
      },
      "outputs": [],
      "source": [
        "## This cell contains a function for showing 5 images from a dataloader – DO NOT CHANGE THE CONTENTS! ##\n",
        "def show5(img_loader):\n",
        "    dataiter = iter(img_loader)\n",
        "\n",
        "    batch = next(dataiter)\n",
        "    labels = batch[1][0:5]\n",
        "    images = batch[0][0:5]\n",
        "    for i in range(5):\n",
        "        print(int(labels[i].detach()))\n",
        "\n",
        "        image = images[i].numpy()\n",
        "        plt.imshow(image.T.squeeze().T)\n",
        "        plt.show()"
      ]
    },
    {
      "cell_type": "code",
      "execution_count": null,
      "metadata": {
        "colab": {
          "base_uri": "https://localhost:8080/",
          "height": 1000
        },
        "id": "Y_Ftn3CY-UK4",
        "outputId": "18ad35ce-3af1-48f5-e7b9-f98dad6995ae"
      },
      "outputs": [
        {
          "name": "stdout",
          "output_type": "stream",
          "text": [
            "1\n"
          ]
        },
        {
          "data": {
            "image/png": "[encoded data removed]",
            "text/plain": [
              "<Figure size 640x480 with 1 Axes>"
            ]
          },
          "metadata": {},
          "output_type": "display_data"
        },
        {
          "name": "stdout",
          "output_type": "stream",
          "text": [
            "9\n"
          ]
        },
        {
          "data": {
            "image/png": "[encoded data removed]",
            "text/plain": [
              "<Figure size 640x480 with 1 Axes>"
            ]
          },
          "metadata": {},
          "output_type": "display_data"
        },
        {
          "name": "stdout",
          "output_type": "stream",
          "text": [
            "0\n"
          ]
        },
        {
          "data": {
            "image/png": "[encoded data removed]",
            "text/plain": [
              "<Figure size 640x480 with 1 Axes>"
            ]
          },
          "metadata": {},
          "output_type": "display_data"
        },
        {
          "name": "stdout",
          "output_type": "stream",
          "text": [
            "3\n"
          ]
        },
        {
          "data": {
            "image/png": "[encoded data removed]",
            "text/plain": [
              "<Figure size 640x480 with 1 Axes>"
            ]
          },
          "metadata": {},
          "output_type": "display_data"
        },
        {
          "name": "stdout",
          "output_type": "stream",
          "text": [
            "3\n"
          ]
        },
        {
          "data": {
            "image/png": "[encoded data removed]",
            "text/plain": [
              "<Figure size 640x480 with 1 Axes>"
            ]
          },
          "metadata": {},
          "output_type": "display_data"
        }
      ],
      "source": [
        "# Explore data\n",
        "## YOUR CODE HERE ##\n",
        "show5(train_loader)"
      ]
    },
    {
      "cell_type": "markdown",
      "metadata": {
        "id": "zs-cptal-UK6"
      },
      "source": [
        "## Build your Neural Network\n",
        "Using the layers in `torch.nn` (which has been imported as `nn`) and the `torch.nn.functional` module (imported as `F`), construct a neural network based on the parameters of the dataset.\n",
        "Use any architecture you like.\n",
        "\n",
        "*Note*: If you did not flatten your tensors in your transforms or as part of your preprocessing and you are using only `Linear` layers, make sure to use the `Flatten` layer in your network!"
      ]
    },
    {
      "cell_type": "code",
      "execution_count": null,
      "metadata": {
        "colab": {
          "base_uri": "https://localhost:8080/"
        },
        "id": "PKRnWmyr-UK7",
        "outputId": "caceab74-cab5-40a9-aa2d-bd8fa8c7daed"
      },
      "outputs": [
        {
          "data": {
            "text/plain": [
              "Net(\n",
              "  (fc1): Linear(in_features=2352, out_features=120, bias=True)\n",
              "  (fc2): Linear(in_features=120, out_features=84, bias=True)\n",
              "  (fc3): Linear(in_features=84, out_features=10, bias=True)\n",
              ")"
            ]
          },
          "execution_count": 37,
          "metadata": {},
          "output_type": "execute_result"
        }
      ],
      "source": [
        "## YOUR CODE HERE ##\n",
        "# Define the class for your neural network\n",
        "class MNIST_MLP(nn.Module):\n",
        "    def __init__(self):\n",
        "        super(MNIST_MLP, self).__init__()\n",
        "        self.fc1 = nn.Linear(28 * 28, 120)  # Corrected input dimension for MNIST\n",
        "        self.fc2 = nn.Linear(120, 84)\n",
        "        self.fc3 = nn.Linear(84, 10)\n",
        "        self.activation = nn.ReLU()\n",
        "        self.output = nn.LogSoftmax(dim=1)\n",
        "\n",
        "    def forward(self, x):\n",
        "        x = torch.flatten(x, 1)  # Flatten the input tensor\n",
        "        x = self.activation(self.fc1(x))\n",
        "        x = self.activation(self.fc2(x))\n",
        "        x = self.output(self.fc3(x))\n",
        "        return x\n",
        "\n",
        "\n",
        "# Instantiate the model\n",
        "net = Net()\n",
        "net.to(device)"
      ]
    },
    {
      "cell_type": "markdown",
      "metadata": {
        "id": "jgI4raB1-UK7"
      },
      "source": [
        "Specify a loss function and an optimizer, and instantiate the model.\n",
        "\n",
        "If you use a less common loss function, please note why you chose that loss function in a comment."
      ]
    },
    {
      "cell_type": "code",
      "execution_count": null,
      "metadata": {
        "id": "NLnd5dZn-UK8"
      },
      "outputs": [],
      "source": [
        "## YOUR CODE HERE ##\n",
        "criterion = nn.NLLLoss()\n",
        "optimizer = optim.SGD(net.parameters(), lr=0.005, momentum=0.9)"
      ]
    },
    {
      "cell_type": "markdown",
      "metadata": {
        "id": "WAFXCq4y-UK-"
      },
      "source": [
        "## Running your Neural Network\n",
        "Use whatever method you like to train your neural network, and ensure you record the average loss at each epoch.\n",
        "Don't forget to use `torch.device()` and the `.to()` method for both your model and your data if you are using GPU!\n",
        "\n",
        "If you want to print your loss **during** each epoch, you can use the `enumerate` function and print the loss after a set number of batches. 250 batches works well for most people!"
      ]
    },
    {
      "cell_type": "code",
      "execution_count": null,
      "metadata": {
        "id": "3nZWQaTM-UK_"
      },
      "outputs": [],
      "source": [
        "mlp = MNIST_MLP()\n",
        "if torch.cuda.is_available():\n",
        "    mlp.cuda()"
      ]
    },
    {
      "cell_type": "markdown",
      "metadata": {
        "id": "NmgsTT5e-ULB"
      },
      "source": [
        "Plot the training loss (and validation loss/accuracy, if recorded)."
      ]
    },
    {
      "cell_type": "code",
      "execution_count": 50,
      "metadata": {
        "colab": {
          "base_uri": "https://localhost:8080/",
          "height": 777
        },
        "id": "74pta10--ULC",
        "outputId": "a561c7a3-e25d-48eb-90ad-3e35143449dd"
      },
      "outputs": [
        {
          "output_type": "stream",
          "name": "stdout",
          "text": [
            "Epoch 1 training accuracy: 99.99% training loss: 0.00072\n",
            "Epoch 1 validation accuracy: 98.39% validation loss: 0.10507\n",
            "Epoch 2 training accuracy: 99.99% training loss: 0.00055\n",
            "Epoch 2 validation accuracy: 98.41% validation loss: 0.10533\n",
            "Epoch 3 training accuracy: 99.99% training loss: 0.00051\n",
            "Epoch 3 validation accuracy: 98.46% validation loss: 0.10756\n",
            "Epoch 4 training accuracy: 100.00% training loss: 0.00040\n",
            "Epoch 4 validation accuracy: 98.47% validation loss: 0.10920\n",
            "Epoch 5 training accuracy: 99.99% training loss: 0.00037\n",
            "Epoch 5 validation accuracy: 98.42% validation loss: 0.10847\n",
            "Epoch 6 training accuracy: 100.00% training loss: 0.00033\n",
            "Epoch 6 validation accuracy: 98.44% validation loss: 0.11020\n",
            "Epoch 7 training accuracy: 100.00% training loss: 0.00029\n",
            "Epoch 7 validation accuracy: 98.38% validation loss: 0.11063\n",
            "Epoch 8 training accuracy: 100.00% training loss: 0.00026\n",
            "Epoch 8 validation accuracy: 98.46% validation loss: 0.11228\n",
            "Epoch 9 training accuracy: 99.99% training loss: 0.00029\n",
            "Epoch 9 validation accuracy: 98.41% validation loss: 0.11284\n",
            "Epoch 10 training accuracy: 100.00% training loss: 0.00025\n",
            "Epoch 10 validation accuracy: 98.43% validation loss: 0.11346\n"
          ]
        },
        {
          "output_type": "display_data",
          "data": {
            "text/plain": [
              "<Figure size 640x480 with 1 Axes>"
            ],
            "image/png": "[encoded data removed]"
          },
          "metadata": {}
        }
      ],
      "source": [
        "## YOUR CODE HERE ##\n",
        "# Function to train the network\n",
        "def train_network_classification(net, train_loader, test_loader):\n",
        "    num_epochs = 10\n",
        "\n",
        "    criterion = nn.NLLLoss()\n",
        "    optimizer = optim.SGD(net.parameters(), lr=0.005, momentum=0.9)\n",
        "\n",
        "    train_loss_history = []\n",
        "    val_loss_history = []\n",
        "\n",
        "    for epoch in range(num_epochs):\n",
        "        net.train()\n",
        "        train_loss = 0.0\n",
        "        train_correct = 0\n",
        "        for i, data in enumerate(train_loader):\n",
        "            inputs, labels = data\n",
        "\n",
        "            if torch.cuda.is_available():\n",
        "                inputs, labels = inputs.cuda(), labels.cuda()\n",
        "\n",
        "            optimizer.zero_grad()\n",
        "            outputs = net(inputs)\n",
        "            loss = criterion(outputs, labels)\n",
        "            loss.backward()\n",
        "            optimizer.step()\n",
        "\n",
        "            _, preds = torch.max(outputs.data, 1)\n",
        "            train_correct += (preds == labels).sum().item()\n",
        "            train_loss += loss.item()\n",
        "        print(f'Epoch {epoch + 1} training accuracy: {train_correct/len(training_data)*100:.2f}% training loss: {train_loss/len(train_loader):.5f}')\n",
        "        train_loss_history.append(train_loss)\n",
        "\n",
        "        val_loss = 0.0\n",
        "        val_correct = 0\n",
        "        net.eval()\n",
        "        with torch.no_grad():\n",
        "            for inputs, labels in test_loader:\n",
        "                if torch.cuda.is_available():\n",
        "                    inputs, labels = inputs.cuda(), labels.cuda()\n",
        "\n",
        "                outputs = net(inputs)\n",
        "                loss = criterion(outputs, labels)\n",
        "\n",
        "                _, preds = torch.max(outputs.data, 1)\n",
        "                val_correct += (preds == labels).sum().item()\n",
        "                val_loss += loss.item()\n",
        "        print(f'Epoch {epoch + 1} validation accuracy: {val_correct/len(testing_data)*100:.2f}% validation loss: {val_loss/len(test_loader):.5f}')\n",
        "        val_loss_history.append(val_loss)\n",
        "\n",
        "    plt.plot(train_loss_history, label=\"Training Loss\")\n",
        "    plt.plot(val_loss_history, label=\"Validation Loss\")\n",
        "    plt.legend()\n",
        "    plt.show()\n",
        "\n",
        "# Train the model\n",
        "train_network_classification(mlp, train_loader, test_loader)\n"
      ]
    },
    {
      "cell_type": "markdown",
      "metadata": {
        "id": "n8_jBJg--ULC"
      },
      "source": [
        "## Testing your model\n",
        "Using the previously created `DataLoader` for the test set, compute the percentage of correct predictions using the highest probability prediction.\n",
        "\n",
        "If your accuracy is over 90%, great work, but see if you can push a bit further!\n",
        "If your accuracy is under 90%, you'll need to make improvements.\n",
        "Go back and check your model architecture, loss function, and optimizer to make sure they're appropriate for an image classification task."
      ]
    },
    {
      "cell_type": "code",
      "execution_count": null,
      "metadata": {
        "id": "RWwh97TS-ULD"
      },
      "outputs": [],
      "source": [
        "## YOUR CODE HERE ##\n",
        "def evaluate_model(net, test_loader):\n",
        "    net.eval()\n",
        "    correct = 0\n",
        "    total = 0\n",
        "    with torch.no_grad():\n",
        "        for data in test_loader:\n",
        "            images, labels = data\n",
        "            if torch.cuda.is_available():\n",
        "                images, labels = images.cuda(), labels.cuda()\n",
        "            outputs = net(images)\n",
        "            _, predicted = torch.max(outputs.data, 1)\n",
        "            total += labels.size(0)\n",
        "            correct += (predicted == labels).sum().item()\n",
        "    accuracy = (correct / total) * 100\n",
        "    return accuracy\n"
      ]
    },
    {
      "cell_type": "code",
      "execution_count": null,
      "metadata": {
        "colab": {
          "base_uri": "https://localhost:8080/"
        },
        "id": "rr4x1nl0jjWf",
        "outputId": "765696a9-86b4-4e08-a943-ae5fc3e7e812"
      },
      "outputs": [
        {
          "name": "stdout",
          "output_type": "stream",
          "text": [
            "Test Accuracy: 97.46%\n"
          ]
        }
      ],
      "source": [
        "test_accuracy = evaluate_model(mlp, test_loader)\n",
        "print(f'Test Accuracy: {test_accuracy:.2f}%')"
      ]
    },
    {
      "cell_type": "markdown",
      "metadata": {
        "id": "P2rGTXkd-ULD"
      },
      "source": [
        "## Improving your model\n",
        "\n",
        "Once your model is done training, try tweaking your hyperparameters and training again below to improve your accuracy on the test set!"
      ]
    },
    {
      "cell_type": "code",
      "execution_count": 48,
      "metadata": {
        "colab": {
          "base_uri": "https://localhost:8080/",
          "height": 781
        },
        "id": "i17pqA-F-ULD",
        "outputId": "a5214c90-bc8d-42f7-f0b1-fd7bbd38397b"
      },
      "outputs": [
        {
          "output_type": "stream",
          "name": "stdout",
          "text": [
            "Epoch 1 training accuracy: 98.87% training loss: 0.03656\n",
            "Epoch 1 validation accuracy: 97.41% validation loss: 0.12866\n",
            "Epoch 2 training accuracy: 98.94% training loss: 0.03234\n",
            "Epoch 2 validation accuracy: 97.80% validation loss: 0.12015\n",
            "Epoch 3 training accuracy: 99.06% training loss: 0.02899\n",
            "Epoch 3 validation accuracy: 97.60% validation loss: 0.12501\n",
            "Epoch 4 training accuracy: 99.10% training loss: 0.02828\n",
            "Epoch 4 validation accuracy: 97.51% validation loss: 0.12937\n",
            "Epoch 5 training accuracy: 99.03% training loss: 0.03064\n",
            "Epoch 5 validation accuracy: 97.07% validation loss: 0.14922\n",
            "Epoch 6 training accuracy: 99.09% training loss: 0.02878\n",
            "Epoch 6 validation accuracy: 97.24% validation loss: 0.15702\n",
            "Epoch 7 training accuracy: 99.13% training loss: 0.02813\n",
            "Epoch 7 validation accuracy: 97.59% validation loss: 0.12112\n",
            "Epoch 8 training accuracy: 99.12% training loss: 0.02853\n",
            "Epoch 8 validation accuracy: 97.60% validation loss: 0.12797\n",
            "Epoch 9 training accuracy: 99.15% training loss: 0.02685\n",
            "Epoch 9 validation accuracy: 97.70% validation loss: 0.12141\n",
            "Epoch 10 training accuracy: 99.18% training loss: 0.02466\n",
            "Epoch 10 validation accuracy: 97.65% validation loss: 0.13379\n"
          ]
        },
        {
          "output_type": "display_data",
          "data": {
            "text/plain": [
              "<Figure size 640x480 with 1 Axes>"
            ],
            "image/png": "[encoded data removed]"
          },
          "metadata": {}
        }
      ],
      "source": [
        "## YOUR CODE HERE ##\n",
        "def train_network_classification(net, train_loader, test_loader):\n",
        "    num_epochs = 10\n",
        "\n",
        "    criterion = nn.CrossEntropyLoss()\n",
        "    optimizer = optim.Adam(net.parameters(), lr=0.001)\n",
        "\n",
        "    train_loss_history = []\n",
        "    val_loss_history = []\n",
        "\n",
        "    for epoch in range(num_epochs):\n",
        "        net.train()\n",
        "        train_loss = 0.0\n",
        "        train_correct = 0\n",
        "        for i, data in enumerate(train_loader):\n",
        "            inputs, labels = data\n",
        "\n",
        "            if torch.cuda.is_available():\n",
        "                inputs, labels = inputs.cuda(), labels.cuda()\n",
        "\n",
        "            optimizer.zero_grad()\n",
        "            outputs = net(inputs)\n",
        "            loss = criterion(outputs, labels)\n",
        "            loss.backward()\n",
        "            optimizer.step()\n",
        "\n",
        "            _, preds = torch.max(outputs.data, 1)\n",
        "            train_correct += (preds == labels).sum().item()\n",
        "            train_loss += loss.item()\n",
        "        print(f'Epoch {epoch + 1} training accuracy: {train_correct/len(training_data)*100:.2f}% training loss: {train_loss/len(train_loader):.5f}')\n",
        "        train_loss_history.append(train_loss)\n",
        "\n",
        "        val_loss = 0.0\n",
        "        val_correct = 0\n",
        "        net.eval()\n",
        "        with torch.no_grad():\n",
        "            for inputs, labels in test_loader:\n",
        "                if torch.cuda.is_available():\n",
        "                    inputs, labels = inputs.cuda(), labels.cuda()\n",
        "\n",
        "                outputs = net(inputs)\n",
        "                loss = criterion(outputs, labels)\n",
        "\n",
        "                _, preds = torch.max(outputs.data, 1)\n",
        "                val_correct += (preds == labels).sum().item()\n",
        "                val_loss += loss.item()\n",
        "        print(f'Epoch {epoch + 1} validation accuracy: {val_correct/len(testing_data)*100:.2f}% validation loss: {val_loss/len(test_loader):.5f}')\n",
        "        val_loss_history.append(val_loss)\n",
        "\n",
        "    plt.plot(train_loss_history, label=\"Training Loss\")\n",
        "    plt.plot(val_loss_history, label=\"Validation Loss\")\n",
        "    plt.legend()\n",
        "    plt.show()\n",
        "\n",
        "# Train the model\n",
        "train_network_classification(mlp, train_loader, test_loader)\n"
      ]
    },
    {
      "cell_type": "code",
      "execution_count": 52,
      "metadata": {
        "id": "0U43hb4_kcIS"
      },
      "outputs": [],
      "source": [
        "## YOUR CODE HERE ##\n",
        "def evaluate_model(net, test_loader):\n",
        "    net.eval()\n",
        "    correct = 0\n",
        "    total = 0\n",
        "    with torch.no_grad():\n",
        "        for data in test_loader:\n",
        "            images, labels = data\n",
        "            if torch.cuda.is_available():\n",
        "                images, labels = images.cuda(), labels.cuda()\n",
        "            outputs = net(images)\n",
        "            _, predicted = torch.max(outputs.data, 1)\n",
        "            total += labels.size(0)\n",
        "            correct += (predicted == labels).sum().item()\n",
        "    accuracy = (correct / total) * 100\n",
        "    return accuracy"
      ]
    },
    {
      "cell_type": "code",
      "execution_count": 53,
      "metadata": {
        "id": "tTkHj3PpkiRW",
        "colab": {
          "base_uri": "https://localhost:8080/"
        },
        "outputId": "51ff02c7-a5aa-4a63-83ae-0bb72bcd5e3d"
      },
      "outputs": [
        {
          "output_type": "stream",
          "name": "stdout",
          "text": [
            "Test Accuracy: 98.43%\n"
          ]
        }
      ],
      "source": [
        "test_accuracy = evaluate_model(mlp, test_loader)\n",
        "print(f'Test Accuracy: {test_accuracy:.2f}%')"
      ]
    },
    {
      "cell_type": "markdown",
      "metadata": {
        "id": "GT50D3jt-ULE"
      },
      "source": [
        "## Saving your model\n",
        "Using `torch.save`, save your model for future loading."
      ]
    },
    {
      "cell_type": "code",
      "execution_count": 57,
      "metadata": {
        "id": "MtCykgP4-ULE"
      },
      "outputs": [],
      "source": [
        "## YOUR CODE HERE ##\n",
        "torch.save(mlp.state_dict(), 'mnist_mlp.pth')"
      ]
    },
    {
      "cell_type": "code",
      "source": [],
      "metadata": {
        "id": "mvVN_Rb7opHY"
      },
      "execution_count": 56,
      "outputs": []
    },
    {
      "cell_type": "code",
      "source": [],
      "metadata": {
        "id": "ENJfwA6Zo8CT"
      },
      "execution_count": null,
      "outputs": []
    }
  ],
  "metadata": {
    "colab": {
      "provenance": []
    },
    "kernelspec": {
      "display_name": "Python 3",
      "language": "python",
      "name": "python3"
    },
    "language_info": {
      "codemirror_mode": {
        "name": "ipython",
        "version": 3
      },
      "file_extension": ".py",
      "mimetype": "text/x-python",
      "name": "python",
      "nbconvert_exporter": "python",
      "pygments_lexer": "ipython3",
      "version": "3.7.6"
    }
  },
  "nbformat": 4,
  "nbformat_minor": 0
}